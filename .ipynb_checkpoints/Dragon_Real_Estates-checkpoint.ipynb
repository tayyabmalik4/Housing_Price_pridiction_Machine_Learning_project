{
 "cells": [
  {
   "cell_type": "markdown",
   "id": "1bd8db62",
   "metadata": {},
   "source": [
    "# Dragon Real Estate - Price Predictor"
   ]
  },
  {
   "cell_type": "code",
   "execution_count": 1,
   "id": "2c62e530",
   "metadata": {},
   "outputs": [],
   "source": [
    "import numpy as np\n",
    "import pandas as pd\n",
    "import matplotlib.pyplot as plt\n",
    "import seaborn as sns\n",
    "from sklearn import datasets\n",
    "from sklearn.model_selection import train_test_split\n",
    "from sklearn.model_selection import StratifiedShuffleSplit\n",
    "from pandas.plotting import scatter_matrix\n",
    "from sklearn.impute import SimpleImputer\n",
    "from sklearn.pipeline import Pipeline\n",
    "from sklearn.preprocessing import StandardScaler\n",
    "from sklearn.preprocessing import MinMaxScaler\n",
    "from sklearn.linear_model import LinearRegression\n",
    "from sklearn.metrics import mean_squared_error\n",
    "from sklearn.tree import DecisionTreeRegressor\n",
    "from sklearn.model_selection import cross_val_score\n",
    "from sklearn.ensemble import RandomForestRegressor\n",
    "from joblib import dump, load"
   ]
  },
  {
   "cell_type": "code",
   "execution_count": 2,
   "id": "f12ee2a8",
   "metadata": {},
   "outputs": [],
   "source": [
    "# ---importing the dataset\n",
    "housing=pd.read_csv('data.csv')"
   ]
  },
  {
   "cell_type": "code",
   "execution_count": 3,
   "id": "005d8405",
   "metadata": {},
   "outputs": [
    {
     "name": "stdout",
     "output_type": "stream",
     "text": [
      "      CRIM    ZN  INDUS  CHAS    NOX     RM   AGE     DIS  RAD  TAX  PTRATIO  \\\n",
      "0  0.00632  18.0   2.31     0  0.538  6.575  65.2  4.0900    1  296     15.3   \n",
      "1  0.02731   0.0   7.07     0  0.469  6.421  78.9  4.9671    2  242     17.8   \n",
      "2  0.02729   0.0   7.07     0  0.469  7.185  61.1  4.9671    2  242     17.8   \n",
      "3  0.03237   0.0   2.18     0  0.458  6.998  45.8  6.0622    3  222     18.7   \n",
      "4  0.06905   0.0   2.18     0  0.458  7.147  54.2  6.0622    3  222     18.7   \n",
      "\n",
      "        B  LSTAT  MEDV  \n",
      "0  396.90   4.98  24.0  \n",
      "1  396.90   9.14  21.6  \n",
      "2  392.83   4.03  34.7  \n",
      "3  394.63   2.94  33.4  \n",
      "4  396.90   5.33  36.2  \n"
     ]
    }
   ],
   "source": [
    "print(housing.head())"
   ]
  },
  {
   "cell_type": "code",
   "execution_count": 4,
   "id": "a589344a",
   "metadata": {},
   "outputs": [
    {
     "name": "stdout",
     "output_type": "stream",
     "text": [
      "<class 'pandas.core.frame.DataFrame'>\n",
      "RangeIndex: 506 entries, 0 to 505\n",
      "Data columns (total 14 columns):\n",
      " #   Column   Non-Null Count  Dtype  \n",
      "---  ------   --------------  -----  \n",
      " 0   CRIM     506 non-null    float64\n",
      " 1   ZN       506 non-null    float64\n",
      " 2   INDUS    506 non-null    float64\n",
      " 3   CHAS     506 non-null    int64  \n",
      " 4   NOX      506 non-null    float64\n",
      " 5   RM       501 non-null    float64\n",
      " 6   AGE      506 non-null    float64\n",
      " 7   DIS      506 non-null    float64\n",
      " 8   RAD      506 non-null    int64  \n",
      " 9   TAX      506 non-null    int64  \n",
      " 10  PTRATIO  506 non-null    float64\n",
      " 11  B        506 non-null    float64\n",
      " 12  LSTAT    506 non-null    float64\n",
      " 13  MEDV     506 non-null    float64\n",
      "dtypes: float64(11), int64(3)\n",
      "memory usage: 55.5 KB\n",
      "None\n"
     ]
    }
   ],
   "source": [
    "# ----for giving the information we use info function\n",
    "print(housing.info())"
   ]
  },
  {
   "cell_type": "code",
   "execution_count": 5,
   "id": "c0589707",
   "metadata": {},
   "outputs": [
    {
     "name": "stdout",
     "output_type": "stream",
     "text": [
      "<class 'pandas.core.frame.DataFrame'>\n",
      "RangeIndex: 506 entries, 0 to 505\n",
      "Data columns (total 14 columns):\n",
      " #   Column   Non-Null Count  Dtype  \n",
      "---  ------   --------------  -----  \n",
      " 0   CRIM     506 non-null    float64\n",
      " 1   ZN       506 non-null    float64\n",
      " 2   INDUS    506 non-null    float64\n",
      " 3   CHAS     506 non-null    int64  \n",
      " 4   NOX      506 non-null    float64\n",
      " 5   RM       501 non-null    float64\n",
      " 6   AGE      506 non-null    float64\n",
      " 7   DIS      506 non-null    float64\n",
      " 8   RAD      506 non-null    int64  \n",
      " 9   TAX      506 non-null    int64  \n",
      " 10  PTRATIO  506 non-null    float64\n",
      " 11  B        506 non-null    float64\n",
      " 12  LSTAT    506 non-null    float64\n",
      " 13  MEDV     506 non-null    float64\n",
      "dtypes: float64(11), int64(3)\n",
      "memory usage: 55.5 KB\n",
      "None\n"
     ]
    }
   ],
   "source": [
    "# ----for droping the columns we use drop function\n",
    "# housing=housing.dropna(axis=1)\n",
    "print(housing.info())"
   ]
  },
  {
   "cell_type": "code",
   "execution_count": 6,
   "id": "264e59ab",
   "metadata": {},
   "outputs": [
    {
     "name": "stdout",
     "output_type": "stream",
     "text": [
      "0    471\n",
      "1     35\n",
      "Name: CHAS, dtype: int64\n"
     ]
    }
   ],
   "source": [
    "# ----Now checking the CHAS values in housing dataframe\n",
    "print(housing['CHAS'].value_counts())"
   ]
  },
  {
   "cell_type": "code",
   "execution_count": 7,
   "id": "04a43223",
   "metadata": {},
   "outputs": [
    {
     "name": "stdout",
     "output_type": "stream",
     "text": [
      "             CRIM          ZN       INDUS        CHAS         NOX          RM  \\\n",
      "count  506.000000  506.000000  506.000000  506.000000  506.000000  501.000000   \n",
      "mean     3.613524   11.363636   11.136779    0.069170    0.554695    6.287711   \n",
      "std      8.601545   23.322453    6.860353    0.253994    0.115878    0.705395   \n",
      "min      0.006320    0.000000    0.460000    0.000000    0.385000    3.561000   \n",
      "25%      0.082045    0.000000    5.190000    0.000000    0.449000    5.885000   \n",
      "50%      0.256510    0.000000    9.690000    0.000000    0.538000    6.211000   \n",
      "75%      3.677083   12.500000   18.100000    0.000000    0.624000    6.629000   \n",
      "max     88.976200  100.000000   27.740000    1.000000    0.871000    8.780000   \n",
      "\n",
      "              AGE         DIS         RAD         TAX     PTRATIO           B  \\\n",
      "count  506.000000  506.000000  506.000000  506.000000  506.000000  506.000000   \n",
      "mean    68.574901    3.795043    9.549407  408.237154   18.455534  356.674032   \n",
      "std     28.148861    2.105710    8.707259  168.537116    2.164946   91.294864   \n",
      "min      2.900000    1.129600    1.000000  187.000000   12.600000    0.320000   \n",
      "25%     45.025000    2.100175    4.000000  279.000000   17.400000  375.377500   \n",
      "50%     77.500000    3.207450    5.000000  330.000000   19.050000  391.440000   \n",
      "75%     94.075000    5.188425   24.000000  666.000000   20.200000  396.225000   \n",
      "max    100.000000   12.126500   24.000000  711.000000   22.000000  396.900000   \n",
      "\n",
      "            LSTAT        MEDV  \n",
      "count  506.000000  506.000000  \n",
      "mean    12.653063   22.532806  \n",
      "std      7.141062    9.197104  \n",
      "min      1.730000    5.000000  \n",
      "25%      6.950000   17.025000  \n",
      "50%     11.360000   21.200000  \n",
      "75%     16.955000   25.000000  \n",
      "max     37.970000   50.000000  \n"
     ]
    }
   ],
   "source": [
    "# -----Now we chk all the description like min, max, per, mean, count\n",
    "print(housing.describe())"
   ]
  },
  {
   "cell_type": "code",
   "execution_count": 8,
   "id": "411aaa0a",
   "metadata": {},
   "outputs": [],
   "source": [
    "# ----for plotting the graph\n",
    "# %matplotlib inline\n",
    "# housing.hist(bins=25, figsize=(25,25))\n",
    "# plt.show() "
   ]
  },
  {
   "cell_type": "markdown",
   "id": "8c003963",
   "metadata": {},
   "source": [
    "# Train-Test Splitting"
   ]
  },
  {
   "cell_type": "code",
   "execution_count": 9,
   "id": "7b5eff12",
   "metadata": {},
   "outputs": [],
   "source": [
    "# ----we creat a function which is splitting the train data(80%) and test data(20%) \n",
    "# ----this is just a learning purpose----we split the dataset using sklearn by simple one line\n",
    "def split_train_test(data,test_ratio):\n",
    "    np.random.seed(42)\n",
    "    shuffled=np.random.permutation(len(data))\n",
    "    test_set_size=int(len(data)* test_ratio)\n",
    "    test_indices=shuffled[:test_set_size] \n",
    "    train_indices=shuffled[test_set_size:]\n",
    "    return data.iloc[train_indices],data.iloc[test_indices]"
   ]
  },
  {
   "cell_type": "code",
   "execution_count": 10,
   "id": "6eb07d6f",
   "metadata": {},
   "outputs": [],
   "source": [
    "#  -----Now splitting the datasets into train and test\n",
    "train_set, test_set = split_train_test(housing,0.2)"
   ]
  },
  {
   "cell_type": "code",
   "execution_count": 11,
   "id": "95699fc7",
   "metadata": {},
   "outputs": [],
   "source": [
    "# print(f\"Rows in train dataset{len(train_set)}\\nRows in test dataset {len(test_set)}\")"
   ]
  },
  {
   "cell_type": "code",
   "execution_count": 12,
   "id": "4adc4363",
   "metadata": {},
   "outputs": [
    {
     "name": "stdout",
     "output_type": "stream",
     "text": [
      "Train dataset size is 404 \n",
      " Test dataset size is 102\n"
     ]
    }
   ],
   "source": [
    "#  ----Now we work splitting train and test data in sklearn\n",
    "train_set, test_set =train_test_split(housing,test_size=0.2,random_state=42)\n",
    "print(f\"Train dataset size is {len(train_set)} \\n Test dataset size is {len(test_set)}\")"
   ]
  },
  {
   "cell_type": "code",
   "execution_count": 13,
   "id": "4ed2122f",
   "metadata": {},
   "outputs": [],
   "source": [
    "# -----if our one or more fetchers are categorical and it is shows in 0 or 1 form and 1 values are very short and then when we split test and train data may be possible that the 1 value to not gone in the test data or may be not gone train data so we splitting these fechers are equally destributed in train data or test data\n",
    "# --So we use stratefy sampling function.\n",
    "split=StratifiedShuffleSplit(n_splits=1,test_size=0.2,random_state=42)\n",
    "for train_index, test_index in split.split(housing,housing['CHAS']):\n",
    "    strat_train_set = housing.loc[train_index]\n",
    "    strat_test_set= housing.loc[test_index]"
   ]
  },
  {
   "cell_type": "code",
   "execution_count": 14,
   "id": "d31f56dd",
   "metadata": {},
   "outputs": [
    {
     "name": "stdout",
     "output_type": "stream",
     "text": [
      "0    95\n",
      "1     7\n",
      "Name: CHAS, dtype: int64\n"
     ]
    }
   ],
   "source": [
    "# print(strat_test_set)\n",
    "# print(strat_test_set.describe())\n",
    "# print(strat_test_set.info())\n",
    "print(strat_test_set['CHAS'].value_counts())"
   ]
  },
  {
   "cell_type": "code",
   "execution_count": 15,
   "id": "1ad28efa",
   "metadata": {},
   "outputs": [
    {
     "name": "stdout",
     "output_type": "stream",
     "text": [
      "0    376\n",
      "1     28\n",
      "Name: CHAS, dtype: int64\n"
     ]
    }
   ],
   "source": [
    "# print(strat_train_set)\n",
    "# print(strat_train_set.describe())\n",
    "# print(strat_train_set.info())\n",
    "print(strat_train_set['CHAS'].value_counts())"
   ]
  },
  {
   "cell_type": "code",
   "execution_count": 16,
   "id": "56bd03aa",
   "metadata": {},
   "outputs": [],
   "source": [
    "# -----After splitting the dataset into train and test we creat a copy of train dataset in housing\n",
    "housing=strat_train_set.copy()"
   ]
  },
  {
   "cell_type": "code",
   "execution_count": 17,
   "id": "0ef1f21f",
   "metadata": {},
   "outputs": [
    {
     "data": {
      "text/plain": [
       "MEDV       1.000000\n",
       "RM         0.680351\n",
       "B          0.361761\n",
       "ZN         0.339741\n",
       "DIS        0.240451\n",
       "CHAS       0.205066\n",
       "AGE       -0.364596\n",
       "RAD       -0.374693\n",
       "CRIM      -0.393715\n",
       "NOX       -0.422873\n",
       "TAX       -0.456657\n",
       "INDUS     -0.473516\n",
       "PTRATIO   -0.493534\n",
       "LSTAT     -0.740494\n",
       "Name: MEDV, dtype: float64"
      ]
     },
     "execution_count": 17,
     "metadata": {},
     "output_type": "execute_result"
    }
   ],
   "source": [
    "# -----Now we find out the correlation in dataset\n",
    "# ----Correlation tells us that the price is increase by who many fetchers increase and price are decrese who many fetchers use it\n",
    "corr_matrix=housing.corr()\n",
    "corr_matrix['MEDV'].sort_values(ascending=False)"
   ]
  },
  {
   "cell_type": "code",
   "execution_count": 18,
   "id": "a8df7f51",
   "metadata": {},
   "outputs": [],
   "source": [
    "# -----Now Plotting the correlation graphs using pandas_plotting library\n",
    "# attributes=['MEDV','RM', 'ZN', 'LSTAT']\n",
    "# scatter_matrix(housing[attributes],figsize=(12,8))"
   ]
  },
  {
   "cell_type": "code",
   "execution_count": 19,
   "id": "f0fdeb05",
   "metadata": {},
   "outputs": [],
   "source": [
    "# -----we plottiong the graph of RM and MEDV relation\n",
    "# housing.plot(kind='scatter',x='RM',y='MEDV',alpha=0.8)"
   ]
  },
  {
   "cell_type": "markdown",
   "id": "b82d4279",
   "metadata": {},
   "source": [
    "## Attribute Combinations"
   ]
  },
  {
   "cell_type": "code",
   "execution_count": 20,
   "id": "d1be727d",
   "metadata": {},
   "outputs": [],
   "source": [
    "# ----Now a new attribute created as improve the ML model\n",
    "# housing['TAXRM']=housing['TAX']/housing['RM']\n",
    "# print(housing['TAXRM'])"
   ]
  },
  {
   "cell_type": "code",
   "execution_count": 21,
   "id": "719f154c",
   "metadata": {},
   "outputs": [
    {
     "data": {
      "text/plain": [
       "MEDV       1.000000\n",
       "RM         0.680351\n",
       "B          0.361761\n",
       "ZN         0.339741\n",
       "DIS        0.240451\n",
       "CHAS       0.205066\n",
       "AGE       -0.364596\n",
       "RAD       -0.374693\n",
       "CRIM      -0.393715\n",
       "NOX       -0.422873\n",
       "TAX       -0.456657\n",
       "INDUS     -0.473516\n",
       "PTRATIO   -0.493534\n",
       "LSTAT     -0.740494\n",
       "Name: MEDV, dtype: float64"
      ]
     },
     "execution_count": 21,
     "metadata": {},
     "output_type": "execute_result"
    }
   ],
   "source": [
    "corr_matrix=housing.corr()\n",
    "corr_matrix['MEDV'].sort_values(ascending=False)"
   ]
  },
  {
   "cell_type": "code",
   "execution_count": 22,
   "id": "c7646469",
   "metadata": {},
   "outputs": [],
   "source": [
    "# ----Now plotting the scatter in TAXRM and MEDV fetchers\n",
    "# housing.plot(kind='scatter',x='TAXRM',y='MEDV',alpha=0.8)"
   ]
  },
  {
   "cell_type": "code",
   "execution_count": 23,
   "id": "850f49d0",
   "metadata": {},
   "outputs": [],
   "source": [
    "# ----Now we splits the features and lables\n",
    "housing=strat_train_set.drop(\"MEDV\",axis=1)\n",
    "housing_labels = strat_train_set[\"MEDV\"].copy()"
   ]
  },
  {
   "cell_type": "markdown",
   "id": "643389a4",
   "metadata": {},
   "source": [
    "# Missing Attributes Handles"
   ]
  },
  {
   "cell_type": "code",
   "execution_count": 24,
   "id": "4d2c15a7",
   "metadata": {},
   "outputs": [],
   "source": [
    "# ----To take care of missing attributes, you have three options:\n",
    "# ----1. Get rid of the missing data points\n",
    "# ----2. Get rid of the whole attribute\n",
    "# ----3. Set the value to some value(0, mean or median)"
   ]
  },
  {
   "cell_type": "code",
   "execution_count": 25,
   "id": "5580e4e1",
   "metadata": {},
   "outputs": [
    {
     "name": "stdout",
     "output_type": "stream",
     "text": [
      "(400, 13)\n"
     ]
    }
   ],
   "source": [
    "# -----option 1\n",
    "# -----Note that the original housing dataframe will remain unchanged\n",
    "a=housing.dropna(subset=[\"RM\"])\n",
    "print(a.shape)"
   ]
  },
  {
   "cell_type": "code",
   "execution_count": 26,
   "id": "a545adff",
   "metadata": {},
   "outputs": [
    {
     "name": "stdout",
     "output_type": "stream",
     "text": [
      "(404, 12)\n"
     ]
    }
   ],
   "source": [
    "# -----option 2\n",
    "# -----Note that the real housing dataframe will remain unchanged until we use inplace=True function\n",
    "drp=housing.drop(\"RM\",axis=1)\n",
    "print(drp.shape)"
   ]
  },
  {
   "cell_type": "code",
   "execution_count": 27,
   "id": "eaa52ade",
   "metadata": {},
   "outputs": [
    {
     "name": "stdout",
     "output_type": "stream",
     "text": [
      "6.2175\n"
     ]
    }
   ],
   "source": [
    "# ----compute median for  option 3\n",
    "median=housing[\"RM\"].median()\n",
    "print(median)"
   ]
  },
  {
   "cell_type": "code",
   "execution_count": 28,
   "id": "d9a3e209",
   "metadata": {},
   "outputs": [],
   "source": [
    "# ----fill the median values in RM column\n",
    "# housing[\"RM\"].fillna(median)"
   ]
  },
  {
   "cell_type": "code",
   "execution_count": 29,
   "id": "bfe78e9e",
   "metadata": {},
   "outputs": [
    {
     "data": {
      "text/html": [
       "<div>\n",
       "<style scoped>\n",
       "    .dataframe tbody tr th:only-of-type {\n",
       "        vertical-align: middle;\n",
       "    }\n",
       "\n",
       "    .dataframe tbody tr th {\n",
       "        vertical-align: top;\n",
       "    }\n",
       "\n",
       "    .dataframe thead th {\n",
       "        text-align: right;\n",
       "    }\n",
       "</style>\n",
       "<table border=\"1\" class=\"dataframe\">\n",
       "  <thead>\n",
       "    <tr style=\"text-align: right;\">\n",
       "      <th></th>\n",
       "      <th>CRIM</th>\n",
       "      <th>ZN</th>\n",
       "      <th>INDUS</th>\n",
       "      <th>CHAS</th>\n",
       "      <th>NOX</th>\n",
       "      <th>RM</th>\n",
       "      <th>AGE</th>\n",
       "      <th>DIS</th>\n",
       "      <th>RAD</th>\n",
       "      <th>TAX</th>\n",
       "      <th>PTRATIO</th>\n",
       "      <th>B</th>\n",
       "      <th>LSTAT</th>\n",
       "    </tr>\n",
       "  </thead>\n",
       "  <tbody>\n",
       "    <tr>\n",
       "      <th>count</th>\n",
       "      <td>404.000000</td>\n",
       "      <td>404.000000</td>\n",
       "      <td>404.000000</td>\n",
       "      <td>404.000000</td>\n",
       "      <td>404.000000</td>\n",
       "      <td>400.000000</td>\n",
       "      <td>404.000000</td>\n",
       "      <td>404.000000</td>\n",
       "      <td>404.000000</td>\n",
       "      <td>404.000000</td>\n",
       "      <td>404.000000</td>\n",
       "      <td>404.000000</td>\n",
       "      <td>404.000000</td>\n",
       "    </tr>\n",
       "    <tr>\n",
       "      <th>mean</th>\n",
       "      <td>3.602814</td>\n",
       "      <td>10.836634</td>\n",
       "      <td>11.344950</td>\n",
       "      <td>0.069307</td>\n",
       "      <td>0.558064</td>\n",
       "      <td>6.282723</td>\n",
       "      <td>69.039851</td>\n",
       "      <td>3.746210</td>\n",
       "      <td>9.735149</td>\n",
       "      <td>412.341584</td>\n",
       "      <td>18.473267</td>\n",
       "      <td>353.392822</td>\n",
       "      <td>12.791609</td>\n",
       "    </tr>\n",
       "    <tr>\n",
       "      <th>std</th>\n",
       "      <td>8.099383</td>\n",
       "      <td>22.150636</td>\n",
       "      <td>6.877817</td>\n",
       "      <td>0.254290</td>\n",
       "      <td>0.116875</td>\n",
       "      <td>0.715947</td>\n",
       "      <td>28.258248</td>\n",
       "      <td>2.099057</td>\n",
       "      <td>8.731259</td>\n",
       "      <td>168.672623</td>\n",
       "      <td>2.129243</td>\n",
       "      <td>96.069235</td>\n",
       "      <td>7.235740</td>\n",
       "    </tr>\n",
       "    <tr>\n",
       "      <th>min</th>\n",
       "      <td>0.006320</td>\n",
       "      <td>0.000000</td>\n",
       "      <td>0.740000</td>\n",
       "      <td>0.000000</td>\n",
       "      <td>0.389000</td>\n",
       "      <td>3.561000</td>\n",
       "      <td>2.900000</td>\n",
       "      <td>1.129600</td>\n",
       "      <td>1.000000</td>\n",
       "      <td>187.000000</td>\n",
       "      <td>13.000000</td>\n",
       "      <td>0.320000</td>\n",
       "      <td>1.730000</td>\n",
       "    </tr>\n",
       "    <tr>\n",
       "      <th>25%</th>\n",
       "      <td>0.086962</td>\n",
       "      <td>0.000000</td>\n",
       "      <td>5.190000</td>\n",
       "      <td>0.000000</td>\n",
       "      <td>0.453000</td>\n",
       "      <td>5.878750</td>\n",
       "      <td>44.850000</td>\n",
       "      <td>2.035975</td>\n",
       "      <td>4.000000</td>\n",
       "      <td>284.000000</td>\n",
       "      <td>17.400000</td>\n",
       "      <td>374.617500</td>\n",
       "      <td>6.847500</td>\n",
       "    </tr>\n",
       "    <tr>\n",
       "      <th>50%</th>\n",
       "      <td>0.286735</td>\n",
       "      <td>0.000000</td>\n",
       "      <td>9.900000</td>\n",
       "      <td>0.000000</td>\n",
       "      <td>0.538000</td>\n",
       "      <td>6.217500</td>\n",
       "      <td>78.200000</td>\n",
       "      <td>3.122200</td>\n",
       "      <td>5.000000</td>\n",
       "      <td>337.000000</td>\n",
       "      <td>19.000000</td>\n",
       "      <td>390.955000</td>\n",
       "      <td>11.570000</td>\n",
       "    </tr>\n",
       "    <tr>\n",
       "      <th>75%</th>\n",
       "      <td>3.731923</td>\n",
       "      <td>12.500000</td>\n",
       "      <td>18.100000</td>\n",
       "      <td>0.000000</td>\n",
       "      <td>0.631000</td>\n",
       "      <td>6.632000</td>\n",
       "      <td>94.100000</td>\n",
       "      <td>5.100400</td>\n",
       "      <td>24.000000</td>\n",
       "      <td>666.000000</td>\n",
       "      <td>20.200000</td>\n",
       "      <td>395.630000</td>\n",
       "      <td>17.102500</td>\n",
       "    </tr>\n",
       "    <tr>\n",
       "      <th>max</th>\n",
       "      <td>73.534100</td>\n",
       "      <td>100.000000</td>\n",
       "      <td>27.740000</td>\n",
       "      <td>1.000000</td>\n",
       "      <td>0.871000</td>\n",
       "      <td>8.780000</td>\n",
       "      <td>100.000000</td>\n",
       "      <td>12.126500</td>\n",
       "      <td>24.000000</td>\n",
       "      <td>711.000000</td>\n",
       "      <td>22.000000</td>\n",
       "      <td>396.900000</td>\n",
       "      <td>36.980000</td>\n",
       "    </tr>\n",
       "  </tbody>\n",
       "</table>\n",
       "</div>"
      ],
      "text/plain": [
       "             CRIM          ZN       INDUS        CHAS         NOX          RM  \\\n",
       "count  404.000000  404.000000  404.000000  404.000000  404.000000  400.000000   \n",
       "mean     3.602814   10.836634   11.344950    0.069307    0.558064    6.282723   \n",
       "std      8.099383   22.150636    6.877817    0.254290    0.116875    0.715947   \n",
       "min      0.006320    0.000000    0.740000    0.000000    0.389000    3.561000   \n",
       "25%      0.086962    0.000000    5.190000    0.000000    0.453000    5.878750   \n",
       "50%      0.286735    0.000000    9.900000    0.000000    0.538000    6.217500   \n",
       "75%      3.731923   12.500000   18.100000    0.000000    0.631000    6.632000   \n",
       "max     73.534100  100.000000   27.740000    1.000000    0.871000    8.780000   \n",
       "\n",
       "              AGE         DIS         RAD         TAX     PTRATIO           B  \\\n",
       "count  404.000000  404.000000  404.000000  404.000000  404.000000  404.000000   \n",
       "mean    69.039851    3.746210    9.735149  412.341584   18.473267  353.392822   \n",
       "std     28.258248    2.099057    8.731259  168.672623    2.129243   96.069235   \n",
       "min      2.900000    1.129600    1.000000  187.000000   13.000000    0.320000   \n",
       "25%     44.850000    2.035975    4.000000  284.000000   17.400000  374.617500   \n",
       "50%     78.200000    3.122200    5.000000  337.000000   19.000000  390.955000   \n",
       "75%     94.100000    5.100400   24.000000  666.000000   20.200000  395.630000   \n",
       "max    100.000000   12.126500   24.000000  711.000000   22.000000  396.900000   \n",
       "\n",
       "            LSTAT  \n",
       "count  404.000000  \n",
       "mean    12.791609  \n",
       "std      7.235740  \n",
       "min      1.730000  \n",
       "25%      6.847500  \n",
       "50%     11.570000  \n",
       "75%     17.102500  \n",
       "max     36.980000  "
      ]
     },
     "execution_count": 29,
     "metadata": {},
     "output_type": "execute_result"
    }
   ],
   "source": [
    "# ----before Imputing the values we chk that the describe of the housing dataset\n",
    "housing.describe()"
   ]
  },
  {
   "cell_type": "code",
   "execution_count": 30,
   "id": "85f797de",
   "metadata": {},
   "outputs": [
    {
     "data": {
      "text/plain": [
       "SimpleImputer(strategy='median')"
      ]
     },
     "execution_count": 30,
     "metadata": {},
     "output_type": "execute_result"
    }
   ],
   "source": [
    "# -----Now filll the nan values as median using sklearn library\n",
    "imputer=SimpleImputer(strategy='median')\n",
    "imputer.fit(housing)"
   ]
  },
  {
   "cell_type": "code",
   "execution_count": 31,
   "id": "69df4aca",
   "metadata": {},
   "outputs": [
    {
     "name": "stdout",
     "output_type": "stream",
     "text": [
      "(13,)\n"
     ]
    }
   ],
   "source": [
    "# ----Now check that the median values using statistics_ function\n",
    "# print(imputer.statistics_)\n",
    "print(imputer.statistics_.shape)"
   ]
  },
  {
   "cell_type": "code",
   "execution_count": 32,
   "id": "c838860a",
   "metadata": {},
   "outputs": [],
   "source": [
    "# ----Now we transform the dataFrame in one variable\n",
    "X=imputer.transform(housing)"
   ]
  },
  {
   "cell_type": "code",
   "execution_count": 33,
   "id": "e66f161a",
   "metadata": {},
   "outputs": [],
   "source": [
    "# ----sklearn is returning the arrays form but we need a data in matrixs form\n",
    "# ----So we use pandas library to convert the array to datarame\n",
    "housing_tr=pd.DataFrame(X,columns=housing.columns)"
   ]
  },
  {
   "cell_type": "code",
   "execution_count": 34,
   "id": "2d70326d",
   "metadata": {},
   "outputs": [
    {
     "data": {
      "text/html": [
       "<div>\n",
       "<style scoped>\n",
       "    .dataframe tbody tr th:only-of-type {\n",
       "        vertical-align: middle;\n",
       "    }\n",
       "\n",
       "    .dataframe tbody tr th {\n",
       "        vertical-align: top;\n",
       "    }\n",
       "\n",
       "    .dataframe thead th {\n",
       "        text-align: right;\n",
       "    }\n",
       "</style>\n",
       "<table border=\"1\" class=\"dataframe\">\n",
       "  <thead>\n",
       "    <tr style=\"text-align: right;\">\n",
       "      <th></th>\n",
       "      <th>CRIM</th>\n",
       "      <th>ZN</th>\n",
       "      <th>INDUS</th>\n",
       "      <th>CHAS</th>\n",
       "      <th>NOX</th>\n",
       "      <th>RM</th>\n",
       "      <th>AGE</th>\n",
       "      <th>DIS</th>\n",
       "      <th>RAD</th>\n",
       "      <th>TAX</th>\n",
       "      <th>PTRATIO</th>\n",
       "      <th>B</th>\n",
       "      <th>LSTAT</th>\n",
       "    </tr>\n",
       "  </thead>\n",
       "  <tbody>\n",
       "    <tr>\n",
       "      <th>count</th>\n",
       "      <td>404.000000</td>\n",
       "      <td>404.000000</td>\n",
       "      <td>404.000000</td>\n",
       "      <td>404.000000</td>\n",
       "      <td>404.000000</td>\n",
       "      <td>404.000000</td>\n",
       "      <td>404.000000</td>\n",
       "      <td>404.000000</td>\n",
       "      <td>404.000000</td>\n",
       "      <td>404.000000</td>\n",
       "      <td>404.000000</td>\n",
       "      <td>404.000000</td>\n",
       "      <td>404.000000</td>\n",
       "    </tr>\n",
       "    <tr>\n",
       "      <th>mean</th>\n",
       "      <td>3.602814</td>\n",
       "      <td>10.836634</td>\n",
       "      <td>11.344950</td>\n",
       "      <td>0.069307</td>\n",
       "      <td>0.558064</td>\n",
       "      <td>6.282077</td>\n",
       "      <td>69.039851</td>\n",
       "      <td>3.746210</td>\n",
       "      <td>9.735149</td>\n",
       "      <td>412.341584</td>\n",
       "      <td>18.473267</td>\n",
       "      <td>353.392822</td>\n",
       "      <td>12.791609</td>\n",
       "    </tr>\n",
       "    <tr>\n",
       "      <th>std</th>\n",
       "      <td>8.099383</td>\n",
       "      <td>22.150636</td>\n",
       "      <td>6.877817</td>\n",
       "      <td>0.254290</td>\n",
       "      <td>0.116875</td>\n",
       "      <td>0.712415</td>\n",
       "      <td>28.258248</td>\n",
       "      <td>2.099057</td>\n",
       "      <td>8.731259</td>\n",
       "      <td>168.672623</td>\n",
       "      <td>2.129243</td>\n",
       "      <td>96.069235</td>\n",
       "      <td>7.235740</td>\n",
       "    </tr>\n",
       "    <tr>\n",
       "      <th>min</th>\n",
       "      <td>0.006320</td>\n",
       "      <td>0.000000</td>\n",
       "      <td>0.740000</td>\n",
       "      <td>0.000000</td>\n",
       "      <td>0.389000</td>\n",
       "      <td>3.561000</td>\n",
       "      <td>2.900000</td>\n",
       "      <td>1.129600</td>\n",
       "      <td>1.000000</td>\n",
       "      <td>187.000000</td>\n",
       "      <td>13.000000</td>\n",
       "      <td>0.320000</td>\n",
       "      <td>1.730000</td>\n",
       "    </tr>\n",
       "    <tr>\n",
       "      <th>25%</th>\n",
       "      <td>0.086962</td>\n",
       "      <td>0.000000</td>\n",
       "      <td>5.190000</td>\n",
       "      <td>0.000000</td>\n",
       "      <td>0.453000</td>\n",
       "      <td>5.879750</td>\n",
       "      <td>44.850000</td>\n",
       "      <td>2.035975</td>\n",
       "      <td>4.000000</td>\n",
       "      <td>284.000000</td>\n",
       "      <td>17.400000</td>\n",
       "      <td>374.617500</td>\n",
       "      <td>6.847500</td>\n",
       "    </tr>\n",
       "    <tr>\n",
       "      <th>50%</th>\n",
       "      <td>0.286735</td>\n",
       "      <td>0.000000</td>\n",
       "      <td>9.900000</td>\n",
       "      <td>0.000000</td>\n",
       "      <td>0.538000</td>\n",
       "      <td>6.217500</td>\n",
       "      <td>78.200000</td>\n",
       "      <td>3.122200</td>\n",
       "      <td>5.000000</td>\n",
       "      <td>337.000000</td>\n",
       "      <td>19.000000</td>\n",
       "      <td>390.955000</td>\n",
       "      <td>11.570000</td>\n",
       "    </tr>\n",
       "    <tr>\n",
       "      <th>75%</th>\n",
       "      <td>3.731923</td>\n",
       "      <td>12.500000</td>\n",
       "      <td>18.100000</td>\n",
       "      <td>0.000000</td>\n",
       "      <td>0.631000</td>\n",
       "      <td>6.630250</td>\n",
       "      <td>94.100000</td>\n",
       "      <td>5.100400</td>\n",
       "      <td>24.000000</td>\n",
       "      <td>666.000000</td>\n",
       "      <td>20.200000</td>\n",
       "      <td>395.630000</td>\n",
       "      <td>17.102500</td>\n",
       "    </tr>\n",
       "    <tr>\n",
       "      <th>max</th>\n",
       "      <td>73.534100</td>\n",
       "      <td>100.000000</td>\n",
       "      <td>27.740000</td>\n",
       "      <td>1.000000</td>\n",
       "      <td>0.871000</td>\n",
       "      <td>8.780000</td>\n",
       "      <td>100.000000</td>\n",
       "      <td>12.126500</td>\n",
       "      <td>24.000000</td>\n",
       "      <td>711.000000</td>\n",
       "      <td>22.000000</td>\n",
       "      <td>396.900000</td>\n",
       "      <td>36.980000</td>\n",
       "    </tr>\n",
       "  </tbody>\n",
       "</table>\n",
       "</div>"
      ],
      "text/plain": [
       "             CRIM          ZN       INDUS        CHAS         NOX          RM  \\\n",
       "count  404.000000  404.000000  404.000000  404.000000  404.000000  404.000000   \n",
       "mean     3.602814   10.836634   11.344950    0.069307    0.558064    6.282077   \n",
       "std      8.099383   22.150636    6.877817    0.254290    0.116875    0.712415   \n",
       "min      0.006320    0.000000    0.740000    0.000000    0.389000    3.561000   \n",
       "25%      0.086962    0.000000    5.190000    0.000000    0.453000    5.879750   \n",
       "50%      0.286735    0.000000    9.900000    0.000000    0.538000    6.217500   \n",
       "75%      3.731923   12.500000   18.100000    0.000000    0.631000    6.630250   \n",
       "max     73.534100  100.000000   27.740000    1.000000    0.871000    8.780000   \n",
       "\n",
       "              AGE         DIS         RAD         TAX     PTRATIO           B  \\\n",
       "count  404.000000  404.000000  404.000000  404.000000  404.000000  404.000000   \n",
       "mean    69.039851    3.746210    9.735149  412.341584   18.473267  353.392822   \n",
       "std     28.258248    2.099057    8.731259  168.672623    2.129243   96.069235   \n",
       "min      2.900000    1.129600    1.000000  187.000000   13.000000    0.320000   \n",
       "25%     44.850000    2.035975    4.000000  284.000000   17.400000  374.617500   \n",
       "50%     78.200000    3.122200    5.000000  337.000000   19.000000  390.955000   \n",
       "75%     94.100000    5.100400   24.000000  666.000000   20.200000  395.630000   \n",
       "max    100.000000   12.126500   24.000000  711.000000   22.000000  396.900000   \n",
       "\n",
       "            LSTAT  \n",
       "count  404.000000  \n",
       "mean    12.791609  \n",
       "std      7.235740  \n",
       "min      1.730000  \n",
       "25%      6.847500  \n",
       "50%     11.570000  \n",
       "75%     17.102500  \n",
       "max     36.980000  "
      ]
     },
     "execution_count": 34,
     "metadata": {},
     "output_type": "execute_result"
    }
   ],
   "source": [
    "# ----Now chk it the dataframe using describe function\n",
    "housing_tr.describe()"
   ]
  },
  {
   "cell_type": "markdown",
   "id": "569a24f6",
   "metadata": {},
   "source": [
    "# Scikit-learn Design"
   ]
  },
  {
   "cell_type": "raw",
   "id": "aedcc38a",
   "metadata": {},
   "source": [
    "# ----primarily, three types of objects\n",
    "# 1. Estimaters\n",
    "# 2. Transformers\n",
    "# 3. Predictors\n",
    "\n",
    "# -1. Estimators ---It estimates some parameter based on a dataset. Eg. Imputer. It has a fit method and transform method.\n",
    "# ----Fit method - Fits the dataset and calculates internal parameters\n",
    "# -2. Transformers ---- transform method takes input and returns output based on the learning from fit().\n",
    "# ----It also has a convenience function called fit_transform(). which fit and then transforms.\n",
    "# -3. Predictors ---LinearRegression model is an example of predictor. fit() and predict are two common functions. It also gives score() function which will evaluate the predictions"
   ]
  },
  {
   "cell_type": "markdown",
   "id": "77503a54",
   "metadata": {},
   "source": [
    "## Features Scaling"
   ]
  },
  {
   "cell_type": "code",
   "execution_count": 35,
   "id": "8c8b9e8c",
   "metadata": {},
   "outputs": [],
   "source": [
    "# ----------------primarily, two types of features scaling methods:\n",
    "# --1. Min-max scaling (Normalization)\n",
    "# --Formula---(value - min)/(max - min)\n",
    "# --Sklearn provides a class called MinMaxScaler for this\n",
    "\n",
    "# --2. Standardization\n",
    "# --formula-- (value - mean)/std\n",
    "# --Sklearn provides a class called standard Scaler for this"
   ]
  },
  {
   "cell_type": "markdown",
   "id": "67fccce2",
   "metadata": {},
   "source": [
    "#  Creating a Pipeline"
   ]
  },
  {
   "cell_type": "code",
   "execution_count": 36,
   "id": "b85a351d",
   "metadata": {},
   "outputs": [],
   "source": [
    "my_pipeline=Pipeline([\n",
    "    ('imputer',SimpleImputer(strategy=\"median\")),\n",
    "#     -----add as many as you want in your pipeline\n",
    "    (\"std_Scaler\",StandardScaler()),\n",
    "])"
   ]
  },
  {
   "cell_type": "code",
   "execution_count": 37,
   "id": "8d362e9e",
   "metadata": {},
   "outputs": [],
   "source": [
    "# ----Now we fit and transform the data in other variable\n",
    "housing_num_tr=my_pipeline.fit_transform(housing)"
   ]
  },
  {
   "cell_type": "code",
   "execution_count": 38,
   "id": "a8b1be0e",
   "metadata": {},
   "outputs": [
    {
     "name": "stdout",
     "output_type": "stream",
     "text": [
      "[[-0.43942006  3.12628155 -1.12165014 ... -0.97491834  0.41164221\n",
      "  -0.86091034]\n",
      " [-0.44352175  3.12628155 -1.35893781 ... -0.69277865  0.39131918\n",
      "  -0.94116739]\n",
      " [ 0.15682292 -0.4898311   0.98336806 ...  0.81196637  0.44624347\n",
      "   0.81480158]\n",
      " ...\n",
      " [-0.43525657 -0.4898311  -1.23083158 ... -0.22254583  0.41831233\n",
      "  -1.27603303]\n",
      " [ 0.14210728 -0.4898311   0.98336806 ...  0.81196637 -3.15239177\n",
      "   0.73869575]\n",
      " [-0.43974024 -0.4898311   0.37049623 ... -0.97491834  0.41070422\n",
      "   0.09940681]]\n"
     ]
    }
   ],
   "source": [
    "print(housing_num_tr)"
   ]
  },
  {
   "cell_type": "code",
   "execution_count": 39,
   "id": "94ee222d",
   "metadata": {},
   "outputs": [
    {
     "data": {
      "text/plain": [
       "RandomForestRegressor()"
      ]
     },
     "execution_count": 39,
     "metadata": {},
     "output_type": "execute_result"
    }
   ],
   "source": [
    "# ----Now we impletes the Algorithm of LinearRegression\n",
    "# ----we use decisionTreeRegressor because LinearRegression is not work accuratilly\n",
    "# ---if we use DecisionTreeRegressor it converted the model into overfitting which is not a correct\n",
    "# model=LinearRegression()\n",
    "# model=DecisionTreeRegressor()\n",
    "model=RandomForestRegressor()\n",
    "model.fit(housing_num_tr, housing_labels)"
   ]
  },
  {
   "cell_type": "code",
   "execution_count": 40,
   "id": "766b18cf",
   "metadata": {},
   "outputs": [],
   "source": [
    "# ---Taking some values of houing dataset\n",
    "some_data=housing.iloc[:5]"
   ]
  },
  {
   "cell_type": "code",
   "execution_count": 41,
   "id": "c22f8386",
   "metadata": {},
   "outputs": [],
   "source": [
    "# ----taking some labels of housing dataset\n",
    "some_labels=housing_labels.iloc[:5]"
   ]
  },
  {
   "cell_type": "code",
   "execution_count": 42,
   "id": "b139c8b7",
   "metadata": {},
   "outputs": [
    {
     "name": "stdout",
     "output_type": "stream",
     "text": [
      "[22.486 25.543 16.38  23.363 23.35 ]\n"
     ]
    }
   ],
   "source": [
    "# ----Now we predicted the values using sklearn library and using function of predict()\n",
    "prepared_data=my_pipeline.transform(some_data)\n",
    "# ----Now we predict the values\n",
    "print(model.predict(prepared_data))"
   ]
  },
  {
   "cell_type": "code",
   "execution_count": 43,
   "id": "34316556",
   "metadata": {},
   "outputs": [
    {
     "name": "stdout",
     "output_type": "stream",
     "text": [
      "[21.9, 24.5, 16.7, 23.1, 23.0]\n"
     ]
    }
   ],
   "source": [
    "# ----Now checking the lables of the data\n",
    "print(list(some_labels))"
   ]
  },
  {
   "cell_type": "markdown",
   "id": "a91adcea",
   "metadata": {},
   "source": [
    "# #Evaluating the model"
   ]
  },
  {
   "cell_type": "code",
   "execution_count": 44,
   "id": "1aaeb792",
   "metadata": {},
   "outputs": [],
   "source": [
    "# ---Now we check the mean square error\n",
    "housing_predictions=model.predict(housing_num_tr)\n",
    "lin_mse=mean_squared_error(housing_labels, housing_predictions)\n",
    "# ----rmse means that square_root_mean_square_error\n",
    "lin_rmse=np.sqrt(lin_mse)"
   ]
  },
  {
   "cell_type": "code",
   "execution_count": 45,
   "id": "2fa404d1",
   "metadata": {},
   "outputs": [
    {
     "name": "stdout",
     "output_type": "stream",
     "text": [
      "1.352368960396038\n",
      "1.1629139952705179\n"
     ]
    }
   ],
   "source": [
    "print(lin_mse)\n",
    "print(lin_rmse)"
   ]
  },
  {
   "cell_type": "markdown",
   "id": "cad48357",
   "metadata": {},
   "source": [
    "# # Using better evaluation techniques -Cross Validation"
   ]
  },
  {
   "cell_type": "code",
   "execution_count": 46,
   "id": "5c5aa20b",
   "metadata": {},
   "outputs": [],
   "source": [
    "# ----dividing groups 1 2 3 4 5 6 7 8 9 10\n",
    "# ----cross validation works that the model is divided into many groups and than then we check the errors\n",
    "scores=cross_val_score(model,housing_num_tr,housing_labels,scoring=\"neg_mean_squared_error\",cv=10)\n",
    "rmse_scores = np.sqrt(-scores)"
   ]
  },
  {
   "cell_type": "code",
   "execution_count": 47,
   "id": "b80f998c",
   "metadata": {},
   "outputs": [
    {
     "data": {
      "text/plain": [
       "array([2.78834529, 2.70869688, 4.34386327, 2.57815198, 3.3362867 ,\n",
       "       2.55759573, 4.81119069, 3.29031835, 3.34554392, 3.17499271])"
      ]
     },
     "execution_count": 47,
     "metadata": {},
     "output_type": "execute_result"
    }
   ],
   "source": [
    "rmse_scores"
   ]
  },
  {
   "cell_type": "code",
   "execution_count": 48,
   "id": "4170220e",
   "metadata": {},
   "outputs": [],
   "source": [
    "# ----Now we just make a function which is printed that the scores, score.mean and score.std\n",
    "def print_scores(scores):\n",
    "    print(\"Scores: \", scores)\n",
    "    print(\"Mean: \", scores.mean())\n",
    "    print(\"Standard deviation: \",scores.std())"
   ]
  },
  {
   "cell_type": "code",
   "execution_count": 49,
   "id": "8c66891e",
   "metadata": {},
   "outputs": [
    {
     "name": "stdout",
     "output_type": "stream",
     "text": [
      "Scores:  [2.78834529 2.70869688 4.34386327 2.57815198 3.3362867  2.55759573\n",
      " 4.81119069 3.29031835 3.34554392 3.17499271]\n",
      "Mean:  3.2934985529202345\n",
      "Standard deviation:  0.7124391392219006\n"
     ]
    }
   ],
   "source": [
    "print_scores(rmse_scores)"
   ]
  },
  {
   "cell_type": "markdown",
   "id": "457d7710",
   "metadata": {},
   "source": [
    "# #Saving the model "
   ]
  },
  {
   "cell_type": "code",
   "execution_count": 51,
   "id": "5dcfbe70",
   "metadata": {},
   "outputs": [
    {
     "data": {
      "text/plain": [
       "['Dragon.joblib']"
      ]
     },
     "execution_count": 51,
     "metadata": {},
     "output_type": "execute_result"
    }
   ],
   "source": [
    "# ----Now we use joblib as to run the Dragon Real Estates \n",
    "dump(model, 'Dragon.joblib')"
   ]
  },
  {
   "cell_type": "code",
   "execution_count": 52,
   "id": "44d15442",
   "metadata": {},
   "outputs": [],
   "source": [
    "# # Testing the model on test data\n",
    "X_test = strat_test_set.drop(\"MEDV\",axis=1)\n",
    "Y_test=strat_test_set['MEDV'].copy()\n",
    "X_test_prepared=my_pipeline.transform(X_test)\n",
    "final_predictions= model.predict(X_test_prepared)\n",
    "final_mse=mean_squared_error(Y_test, final_predictions)\n",
    "final_rmse=np.sqrt(final_mse)"
   ]
  },
  {
   "cell_type": "code",
   "execution_count": 53,
   "id": "628d9d39",
   "metadata": {},
   "outputs": [
    {
     "name": "stdout",
     "output_type": "stream",
     "text": [
      "2.953527721217459\n"
     ]
    }
   ],
   "source": [
    "print(final_rmse)"
   ]
  },
  {
   "cell_type": "code",
   "execution_count": 54,
   "id": "77046487",
   "metadata": {},
   "outputs": [
    {
     "name": "stdout",
     "output_type": "stream",
     "text": [
      "[25.054 11.487 25.498 21.903 18.285 14.937 19.761 14.602 31.272 40.533\n",
      " 20.096 11.615 23.993 28.979 19.441 10.667 31.697 14.519 23.601 18.779\n",
      " 19.617 17.83  17.536 21.862 18.384 30.596 16.382 32.748  9.013 33.568\n",
      " 23.908 21.01  22.904 10.88  20.974 11.273 42.484 24.393 23.173 41.559\n",
      " 23.819 29.308 20.457 20.883 19.411 33.588 44.171 20.009 20.362 21.841\n",
      " 21.213 14.662 21.189 15.073 24.816 32.836 42.251 28.16  20.142 20.827\n",
      " 47.31   9.96  18.654 24.738 15.147 32.888 19.435 18.156 19.125 33.842\n",
      " 27.243 22.919 21.134 22.41  34.964 12.742 15.902 20.01  20.701 21.413\n",
      " 22.455 21.566 14.399 22.96  20.816 21.291 14.049 21.465 22.002 23.052\n",
      " 18.555 27.171  7.334 26.251 18.806 29.883 19.539 31.064 14.666 26.703\n",
      " 20.579 20.134]\n",
      "[16.5, 10.2, 30.1, 23.0, 14.4, 15.6, 19.4, 14.1, 30.3, 35.2, 23.1, 13.8, 25.0, 27.9, 19.5, 12.3, 32.2, 13.5, 23.8, 21.7, 19.2, 19.5, 10.4, 23.2, 18.6, 28.5, 15.2, 32.0, 7.2, 34.6, 20.1, 20.6, 23.6, 13.1, 23.8, 12.7, 43.1, 24.7, 22.2, 44.0, 28.1, 31.0, 21.7, 23.4, 19.5, 33.1, 41.7, 18.7, 19.9, 20.6, 21.2, 13.6, 20.3, 17.8, 27.1, 31.5, 50.0, 29.1, 18.9, 20.4, 50.0, 7.2, 17.2, 36.2, 14.6, 33.2, 23.8, 19.9, 21.5, 37.3, 27.0, 22.0, 24.3, 19.8, 33.3, 7.0, 19.4, 20.9, 21.1, 20.4, 22.2, 11.9, 11.7, 21.6, 19.7, 23.0, 16.7, 21.7, 20.6, 23.3, 19.6, 28.0, 5.0, 24.4, 20.8, 24.8, 21.8, 23.6, 19.0, 25.0, 20.3, 21.5]\n"
     ]
    }
   ],
   "source": [
    "# ----Now checking the values \n",
    "# print(final_predictions)\n",
    "# print(list(Y_test))"
   ]
  },
  {
   "cell_type": "code",
   "execution_count": 57,
   "id": "3fa6baa3",
   "metadata": {},
   "outputs": [
    {
     "data": {
      "text/plain": [
       "array([-0.43942006,  3.12628155, -1.12165014, -0.27288841, -1.42262747,\n",
       "       -0.24465043, -1.31238772,  2.61111401, -1.0016859 , -0.5778192 ,\n",
       "       -0.97491834,  0.41164221, -0.86091034])"
      ]
     },
     "execution_count": 57,
     "metadata": {},
     "output_type": "execute_result"
    }
   ],
   "source": [
    "prepared_data[0]"
   ]
  },
  {
   "cell_type": "markdown",
   "id": "7b66ce26",
   "metadata": {},
   "source": [
    "# # Using the Model"
   ]
  },
  {
   "cell_type": "code",
   "execution_count": null,
   "id": "298fa2ca",
   "metadata": {},
   "outputs": [],
   "source": [
    "# ----importing libraries\n",
    "from joblib import dump, load\n",
    "import numpy as np\n",
    "model = load('Dragon.joblib')\n",
    "features=np.array([[-0.43942006,  3.12628155, -1.12165014, -0.27288841, -1.42262747,\n",
    "       -0.23979304, -1.31238772,  2.61111401, -1.0016859 , -0.5778192 ,\n",
    "       -0.97491834,  0.41164221, -0.86091034]])\n",
    "model.predict(features)"
   ]
  }
 ],
 "metadata": {
  "interpreter": {
   "hash": "ac59ebe37160ed0dfa835113d9b8498d9f09ceb179beaac4002f036b9467c963"
  },
  "kernelspec": {
   "display_name": "Python 3 (ipykernel)",
   "language": "python",
   "name": "python3"
  },
  "language_info": {
   "codemirror_mode": {
    "name": "ipython",
    "version": 3
   },
   "file_extension": ".py",
   "mimetype": "text/x-python",
   "name": "python",
   "nbconvert_exporter": "python",
   "pygments_lexer": "ipython3",
   "version": "3.9.5"
  }
 },
 "nbformat": 4,
 "nbformat_minor": 5
}
